{
 "cells": [
  {
   "cell_type": "code",
   "id": "initial_id",
   "metadata": {
    "collapsed": true,
    "ExecuteTime": {
     "end_time": "2025-08-31T03:14:39.972530Z",
     "start_time": "2025-08-31T03:14:39.926425Z"
    }
   },
   "source": [
    "import csv\n",
    "\n",
    "\n",
    "file = \"C:\\\\Users\\\\samgr\\\\PycharmProjects\\\\CreativityLLM\\\\TrainingData\\\\sctt full dataset.csv\"\n",
    "questions = []\n",
    "with open(file) as f:\n",
    "    reader = csv.reader(f)\n",
    "    for row in reader:\n",
    "        if row[5] not in questions:\n",
    "            questions.append(row[5])\n",
    "\n",
    "for question in questions:\n",
    "    print(question)"
   ],
   "outputs": [
    {
     "name": "stdout",
     "output_type": "stream",
     "text": [
      "prompt\n",
      "testing bird's understanding of human speech\n",
      "a remote island with nonverbal communication\n",
      "why dogs like one friend and cats like another\n",
      "testing effects of water and sunlight on flower growth\n",
      "testing friendliness at different schools\n",
      "why there are massive holds in a field\n",
      "testing if animals have a sense of humor\n",
      "a jungle containing no human life\n",
      "why water is warmer in one lake than another\n",
      "testing mind-reading abilities\n",
      "an unexplored part of the ocean floor\n",
      "a new planet outside of our galaxy\n",
      "a robot that can learn and think like humans\n",
      "why students sing in hallways at a new school\n",
      "why stars disappear from the sky\n"
     ]
    }
   ],
   "execution_count": 4
  },
  {
   "metadata": {
    "ExecuteTime": {
     "end_time": "2025-08-31T17:09:21.714124Z",
     "start_time": "2025-08-31T17:09:21.624783Z"
    }
   },
   "cell_type": "code",
   "source": [
    "import csv\n",
    "file = \"C:\\\\Users\\\\samgr\\\\PycharmProjects\\\\CreativityLLM\\\\TrainingData\\\\sctt full dataset.csv\"\n",
    "studyCounts = [0, 0, 0, 0]\n",
    "keep, cut = 0, 0\n",
    "with open(file) as f:\n",
    "    reader = csv.reader(f)\n",
    "    for row in reader:\n",
    "        if row[1] == \"study_1\":\n",
    "            studyCounts[0] += 1\n",
    "        if row[1] == \"study_2\":\n",
    "            studyCounts[1] += 1\n",
    "        if row[1] == \"study_3\":\n",
    "            studyCounts[2] += 1\n",
    "        if row[1] == \"study_4\":\n",
    "            studyCounts[3] += 1\n",
    "        if row[12] == \"cut\":\n",
    "            cut += 1\n",
    "        else:\n",
    "            keep += 1\n",
    "print(studyCounts)\n",
    "print(keep, cut)"
   ],
   "id": "c9454139b0ea4004",
   "outputs": [
    {
     "name": "stdout",
     "output_type": "stream",
     "text": [
      "[5853, 3291, 6369, 2113]\n",
      "9323 8304\n"
     ]
    }
   ],
   "execution_count": 3
  },
  {
   "metadata": {
    "ExecuteTime": {
     "end_time": "2025-09-01T20:50:47.549098Z",
     "start_time": "2025-09-01T20:50:47.166193Z"
    }
   },
   "cell_type": "code",
   "source": [
    "import csv\n",
    "file = \"C:\\\\Users\\\\samgr\\\\PycharmProjects\\\\CreativityLLM\\\\TrainingData\\\\sctt full dataset.csv\"\n",
    "friendliness = \"C:\\\\Users\\\\samgr\\\\PycharmProjects\\\\CreativityLLM\\\\TrainingData\\\\DataByPrompt\\\\Friendliness.csv\"\n",
    "galaxy = \"C:\\\\Users\\\\samgr\\\\PycharmProjects\\\\CreativityLLM\\\\TrainingData\\\\DataByPrompt\\\\Galaxy.csv\"\n",
    "holds = \"C:\\\\Users\\\\samgr\\\\PycharmProjects\\\\CreativityLLM\\\\TrainingData\\\\DataByPrompt\\\\Holds.csv\"\n",
    "jungle = \"C:\\\\Users\\\\samgr\\\\PycharmProjects\\\\CreativityLLM\\\\TrainingData\\\\DataByPrompt\\\\Jungle.csv\"\n",
    "mindReading = \"C:\\\\Users\\\\samgr\\\\PycharmProjects\\\\CreativityLLM\\\\TrainingData\\\\DataByPrompt\\\\MindReading.csv\"\n",
    "oceanFloor = \"C:\\\\Users\\\\samgr\\\\PycharmProjects\\\\CreativityLLM\\\\TrainingData\\\\DataByPrompt\\\\OceanFloor.csv\"\n",
    "robots = \"C:\\\\Users\\\\samgr\\\\PycharmProjects\\\\CreativityLLM\\\\TrainingData\\\\DataByPrompt\\\\Robots.csv\"\n",
    "senseOfHumor = \"C:\\\\Users\\\\samgr\\\\PycharmProjects\\\\CreativityLLM\\\\TrainingData\\\\DataByPrompt\\\\SenseOfHumor.csv\"\n",
    "starsDisappearing = \"C:\\\\Users\\\\samgr\\\\PycharmProjects\\\\CreativityLLM\\\\TrainingData\\\\DataByPrompt\\\\StarsDisappearing.csv\"\n",
    "studentsSinging = \"C:\\\\Users\\\\samgr\\\\PycharmProjects\\\\CreativityLLM\\\\TrainingData\\\\DataByPrompt\\\\StudentsSinging.csv\"\n",
    "warmerLake = \"C:\\\\Users\\\\samgr\\\\PycharmProjects\\\\CreativityLLM\\\\TrainingData\\\\DataByPrompt\\\\WarmerLake.csv\"\n",
    "waterSunlight = \"C:\\\\Users\\\\samgr\\\\PycharmProjects\\\\CreativityLLM\\\\TrainingData\\\\DataByPrompt\\\\WaterSunlight.csv\"\n",
    "\n",
    "output_files = {\n",
    "    \"friendliness\": open(friendliness, \"w\", newline=\"\"),\n",
    "    \"galaxy\": open(galaxy, \"w\", newline=\"\"),\n",
    "    \"holds\": open(holds, \"w\", newline=\"\"),\n",
    "    \"jungle\": open(jungle, \"w\", newline=\"\"),\n",
    "    \"mindReading\": open(mindReading, \"w\", newline=\"\"),\n",
    "    \"oceanFloor\": open(oceanFloor, \"w\", newline=\"\"),\n",
    "    \"robots\": open(robots, \"w\", newline=\"\"),\n",
    "    \"senseOfHumor\": open(senseOfHumor, \"w\", newline=\"\"),\n",
    "    \"starsDisappearing\": open(starsDisappearing, \"w\", newline=\"\"),\n",
    "    \"studentsSinging\": open(studentsSinging, \"w\", newline=\"\"),\n",
    "    \"warmerLake\": open(warmerLake, \"w\", newline=\"\"),\n",
    "    \"waterSunlight\": open(waterSunlight, \"w\", newline=\"\"),\n",
    "}\n",
    "\n",
    "writers = {key: csv.writer(f) for key, f in output_files.items()}\n",
    "\n",
    "with open(file) as f:\n",
    "    reader = csv.reader(f)\n",
    "    for row in reader:\n",
    "        category = row[5]\n",
    "        if category == \"testing effects of water and sunlight on flower growth\":\n",
    "            writers[\"waterSunlight\"].writerow(row)\n",
    "        if category == \"testing friendliness at different schools\":\n",
    "            writers[\"friendliness\"].writerow(row)\n",
    "        if category == \"why there are massive holds in a field\":\n",
    "            writers[\"holds\"].writerow(row)\n",
    "        if category == \"testing if animals have a sense of humor\":\n",
    "            writers[\"senseOfHumor\"].writerow(row)\n",
    "        if category == \"a jungle containing no human life\":\n",
    "            writers[\"jungle\"].writerow(row)\n",
    "        if category == \"why water is warmer in one lake than another\":\n",
    "            writers[\"warmerLake\"].writerow(row)\n",
    "        if category == \"testing mind-reading abilities\":\n",
    "            writers[\"mindReading\"].writerow(row)\n",
    "        if category == \"an unexplored part of the ocean floor\":\n",
    "            writers[\"oceanFloor\"].writerow(row)\n",
    "        if category == \"a new planet outside of our galaxy\":\n",
    "            writers[\"galaxy\"].writerow(row)\n",
    "        if category == \"a robot that can learn and think like humans\":\n",
    "            writers[\"robots\"].writerow(row)\n",
    "        if category == \"why students sing in hallways at a new school\":\n",
    "            writers[\"studentsSinging\"].writerow(row)\n",
    "        if category == \"why stars disappear from the sky\":\n",
    "            writers[\"starsDisappearing\"].writerow(row)\n",
    "\n",
    "with open(friendliness) as f:\n",
    "    print(\"Friendliness: \", sum(1 for _ in f))\n",
    "\n",
    "with open(waterSunlight) as f:\n",
    "    print(\"Water Sunlight: \", sum(1 for _ in f))\n",
    "\n",
    "with open(holds) as f:\n",
    "    print(\"Holds: \", sum(1 for _ in f))\n",
    "\n",
    "with open(senseOfHumor) as f:\n",
    "    print(\"Humor: \", sum(1 for _ in f))\n",
    "\n",
    "with open(jungle) as f:\n",
    "    print(\"Jungle: \", sum(1 for _ in f))\n",
    "\n",
    "with open(warmerLake) as f:\n",
    "    print(\"Warmer Lake: \", sum(1 for _ in f))\n",
    "\n",
    "with open(mindReading) as f:\n",
    "    print(\"Mind Reading: \", sum(1 for _ in f))\n",
    "\n",
    "with open(oceanFloor) as f:\n",
    "    print(\"Ocean Floor: \", sum(1 for _ in f))\n",
    "\n",
    "with open(galaxy) as f:\n",
    "    print(\"Galaxy: \", sum(1 for _ in f))\n",
    "\n",
    "with open(robots) as f:\n",
    "    print(\"Robots: \", sum(1 for _ in f))\n",
    "\n",
    "with open(studentsSinging) as f:\n",
    "    print(\"Students Singing: \", sum(1 for _ in f))\n",
    "\n",
    "with open(starsDisappearing) as f:\n",
    "    print(\"Stars Disappearing: \", sum(1 for _ in f))\n",
    "\n"
   ],
   "id": "cdd3323c38f56f21",
   "outputs": [
    {
     "name": "stdout",
     "output_type": "stream",
     "text": [
      "Friendliness:  1184\n",
      "Water Sunlight:  373\n",
      "Holds:  396\n",
      "Humor:  1125\n",
      "Jungle:  2184\n",
      "Warmer Lake:  1203\n",
      "Mind Reading:  1155\n",
      "Ocean Floor:  1231\n",
      "Galaxy:  2364\n",
      "Robots:  408\n",
      "Students Singing:  1217\n",
      "Stars Disappearing:  1208\n"
     ]
    }
   ],
   "execution_count": 2
  }
 ],
 "metadata": {
  "kernelspec": {
   "display_name": "Python 3",
   "language": "python",
   "name": "python3"
  },
  "language_info": {
   "codemirror_mode": {
    "name": "ipython",
    "version": 2
   },
   "file_extension": ".py",
   "mimetype": "text/x-python",
   "name": "python",
   "nbconvert_exporter": "python",
   "pygments_lexer": "ipython2",
   "version": "2.7.6"
  }
 },
 "nbformat": 4,
 "nbformat_minor": 5
}
